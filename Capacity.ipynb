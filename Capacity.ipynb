{
  "nbformat": 4,
  "nbformat_minor": 0,
  "metadata": {
    "colab": {
      "provenance": [],
      "authorship_tag": "ABX9TyM01AIbuXwzZPbMuN+J09fS",
      "include_colab_link": true
    },
    "kernelspec": {
      "name": "python3",
      "display_name": "Python 3"
    },
    "language_info": {
      "name": "python"
    }
  },
  "cells": [
    {
      "cell_type": "markdown",
      "metadata": {
        "id": "view-in-github",
        "colab_type": "text"
      },
      "source": [
        "<a href=\"https://colab.research.google.com/github/DrStephPowers/MGMT-in-Python/blob/main/Capacity.ipynb\" target=\"_parent\"><img src=\"https://colab.research.google.com/assets/colab-badge.svg\" alt=\"Open In Colab\"/></a>"
      ]
    },
    {
      "cell_type": "markdown",
      "source": [
        "## Capacity Planning"
      ],
      "metadata": {
        "id": "LtjjWASU6auA"
      }
    },
    {
      "cell_type": "code",
      "source": [
        "import matplotlib.pyplot as plt\n",
        "from sklearn.linear_model import LinearRegression\n",
        "import numpy as np"
      ],
      "metadata": {
        "id": "opHegsOA6Pen"
      },
      "execution_count": 38,
      "outputs": []
    },
    {
      "cell_type": "code",
      "source": [
        "Year = (1, 2, 3, 4, 5, 6, 7, 8, 9, 10)"
      ],
      "metadata": {
        "id": "Sz7R3WUt6hk3"
      },
      "execution_count": 39,
      "outputs": []
    },
    {
      "cell_type": "code",
      "source": [
        "Patient = (3400, 4100, 3800, 4235, 5890, 5080, 6367, 6552, 7436, 6980)"
      ],
      "metadata": {
        "id": "XsBR2rp36lt_"
      },
      "execution_count": 40,
      "outputs": []
    },
    {
      "cell_type": "code",
      "source": [
        "plt.plot(Year, Patient, marker='o', linestyle=\"none\" )\n",
        "plt.xlabel('Year')\n",
        "plt.ylabel('Number of Patients')\n",
        "plt.grid()\n",
        "plt.show()"
      ],
      "metadata": {
        "colab": {
          "base_uri": "https://localhost:8080/",
          "height": 449
        },
        "id": "rZ_9yp0y6zYo",
        "outputId": "617e777f-a3e0-4d94-ccdf-887645e45dc8"
      },
      "execution_count": 42,
      "outputs": [
        {
          "output_type": "display_data",
          "data": {
            "text/plain": [
              "<Figure size 640x480 with 1 Axes>"
            ],
            "image/png": "[encoded data removed]"
          },
          "metadata": {}
        }
      ]
    },
    {
      "cell_type": "code",
      "source": [
        "Year = np.array(Year).reshape((-1, 1))\n",
        "Patient = np.array(Patient)"
      ],
      "metadata": {
        "id": "k3tVLPVR7IdI"
      },
      "execution_count": 43,
      "outputs": []
    },
    {
      "cell_type": "code",
      "source": [
        "model = LinearRegression().fit(Year, Patient)"
      ],
      "metadata": {
        "id": "ipDEwRzh7Te8"
      },
      "execution_count": 44,
      "outputs": []
    },
    {
      "cell_type": "code",
      "source": [
        "model.coef_"
      ],
      "metadata": {
        "colab": {
          "base_uri": "https://localhost:8080/"
        },
        "id": "kHJp4V9R7owl",
        "outputId": "7701e8c7-ceaa-44cd-fec0-d1449b09bcaf"
      },
      "execution_count": 47,
      "outputs": [
        {
          "output_type": "execute_result",
          "data": {
            "text/plain": [
              "array([454.04848485])"
            ]
          },
          "metadata": {},
          "execution_count": 47
        }
      ]
    },
    {
      "cell_type": "code",
      "source": [
        "model.intercept_"
      ],
      "metadata": {
        "colab": {
          "base_uri": "https://localhost:8080/"
        },
        "id": "XT5CtUnr7qhD",
        "outputId": "eaa8dd5e-52d0-411e-cccb-99ba5c098de9"
      },
      "execution_count": 48,
      "outputs": [
        {
          "output_type": "execute_result",
          "data": {
            "text/plain": [
              "2886.733333333333"
            ]
          },
          "metadata": {},
          "execution_count": 48
        }
      ]
    },
    {
      "cell_type": "markdown",
      "source": [
        "Patient = 2886.73 + 454.05 (Year)"
      ],
      "metadata": {
        "id": "LI-2R-yW7sYZ"
      }
    },
    {
      "cell_type": "code",
      "source": [
        "model.score(Year,Patient)"
      ],
      "metadata": {
        "colab": {
          "base_uri": "https://localhost:8080/"
        },
        "id": "ReKJ62pa7dvn",
        "outputId": "d123b605-545c-49e3-9be7-0c65c1cba1d3"
      },
      "execution_count": 46,
      "outputs": [
        {
          "output_type": "execute_result",
          "data": {
            "text/plain": [
              "0.9022414446396151"
            ]
          },
          "metadata": {},
          "execution_count": 46
        }
      ]
    },
    {
      "cell_type": "code",
      "source": [
        "x = np.array([11, 12, 13, 14]).reshape((-1, 1))"
      ],
      "metadata": {
        "id": "0MElv42r777P"
      },
      "execution_count": 49,
      "outputs": []
    },
    {
      "cell_type": "code",
      "source": [
        "y = model.predict(x)"
      ],
      "metadata": {
        "id": "XJMVYcVh71Da"
      },
      "execution_count": 51,
      "outputs": []
    },
    {
      "cell_type": "code",
      "source": [
        "y"
      ],
      "metadata": {
        "colab": {
          "base_uri": "https://localhost:8080/"
        },
        "id": "hSIwcmfE8NuZ",
        "outputId": "ceabe432-96db-4610-eb31-154b22b67adf"
      },
      "execution_count": 52,
      "outputs": [
        {
          "output_type": "execute_result",
          "data": {
            "text/plain": [
              "array([7881.26666667, 8335.31515152, 8789.36363636, 9243.41212121])"
            ]
          },
          "metadata": {},
          "execution_count": 52
        }
      ]
    },
    {
      "cell_type": "markdown",
      "source": [
        "Production time per unit is 0.5 hours.\n",
        "Surgery suites can be used 40 hours a week, 52 weeks a year. How many surgical suites does the hospital need? Can we get by with 2 surgical suites?"
      ],
      "metadata": {
        "id": "n_Ema98w8ohh"
      }
    },
    {
      "cell_type": "code",
      "source": [
        "(y * 0.5) / (40 * 52)"
      ],
      "metadata": {
        "colab": {
          "base_uri": "https://localhost:8080/"
        },
        "id": "TWWSEpq48PLy",
        "outputId": "c7b2f3e8-33a0-412f-a26f-ed0605b2ebb9"
      },
      "execution_count": 54,
      "outputs": [
        {
          "output_type": "execute_result",
          "data": {
            "text/plain": [
              "array([1.89453526, 2.00368153, 2.1128278 , 2.22197407])"
            ]
          },
          "metadata": {},
          "execution_count": 54
        }
      ]
    },
    {
      "cell_type": "markdown",
      "source": [
        "## Bottlenecks Impact Capacity"
      ],
      "metadata": {
        "id": "_BHcFavS9H_w"
      }
    },
    {
      "cell_type": "code",
      "source": [
        "def Capacity(a, b, c, d):\n",
        "  Meat = (200 / 4)*(1 + a)\n",
        "  Veg = 25 * (1 + b)\n",
        "  Bread = (24 / 4) * (1 + c)\n",
        "  Assemble = (60 / 5) * (1 + d)\n",
        "  return min(Meat, Veg, Bread, Assemble)"
      ],
      "metadata": {
        "id": "Kp6Uo4_b9RuB"
      },
      "execution_count": 55,
      "outputs": []
    },
    {
      "cell_type": "code",
      "source": [
        "Capacity(1,1,1,1)"
      ],
      "metadata": {
        "colab": {
          "base_uri": "https://localhost:8080/"
        },
        "id": "8pm_iYeP-hUl",
        "outputId": "2a29c623-8af9-40c4-9d6d-00379a98df64"
      },
      "execution_count": 56,
      "outputs": [
        {
          "output_type": "execute_result",
          "data": {
            "text/plain": [
              "12.0"
            ]
          },
          "metadata": {},
          "execution_count": 56
        }
      ]
    },
    {
      "cell_type": "code",
      "source": [
        "Capacity(1,1,0.30,1)"
      ],
      "metadata": {
        "colab": {
          "base_uri": "https://localhost:8080/"
        },
        "id": "hEIY5G49-w6c",
        "outputId": "41f4076e-b1fe-45c7-dfb5-95888a01cc1e"
      },
      "execution_count": 61,
      "outputs": [
        {
          "output_type": "execute_result",
          "data": {
            "text/plain": [
              "7.800000000000001"
            ]
          },
          "metadata": {},
          "execution_count": 61
        }
      ]
    },
    {
      "cell_type": "code",
      "source": [
        "Capacity(0.15, 1, 1, 1)"
      ],
      "metadata": {
        "colab": {
          "base_uri": "https://localhost:8080/"
        },
        "id": "sqZsW9ox-2-3",
        "outputId": "b3af2839-8dfc-4761-9896-4eeafae538f6"
      },
      "execution_count": 62,
      "outputs": [
        {
          "output_type": "execute_result",
          "data": {
            "text/plain": [
              "12.0"
            ]
          },
          "metadata": {},
          "execution_count": 62
        }
      ]
    },
    {
      "cell_type": "code",
      "source": [
        "Capacity(1, 1, 1, 0.20)"
      ],
      "metadata": {
        "colab": {
          "base_uri": "https://localhost:8080/"
        },
        "id": "Y0bBwEi4-7Uz",
        "outputId": "27f012da-7bb5-4a4e-b6c4-d06810b149b8"
      },
      "execution_count": 63,
      "outputs": [
        {
          "output_type": "execute_result",
          "data": {
            "text/plain": [
              "12.0"
            ]
          },
          "metadata": {},
          "execution_count": 63
        }
      ]
    },
    {
      "cell_type": "markdown",
      "source": [
        "## Breakeven Analysis"
      ],
      "metadata": {
        "id": "JePUqRMJ6LTw"
      }
    },
    {
      "cell_type": "code",
      "execution_count": 6,
      "metadata": {
        "id": "o807POAlzgB-"
      },
      "outputs": [],
      "source": [
        "def Break_even(FC, v, R):\n",
        "    BE = FC / (R-v)\n",
        "    return BE"
      ]
    },
    {
      "cell_type": "code",
      "source": [
        "Break_even(40000, 10, 15)"
      ],
      "metadata": {
        "colab": {
          "base_uri": "https://localhost:8080/"
        },
        "id": "sSTujneC14gD",
        "outputId": "ac5c9930-5ada-43bb-c1a0-6c1184c16154"
      },
      "execution_count": 7,
      "outputs": [
        {
          "output_type": "execute_result",
          "data": {
            "text/plain": [
              "8000.0"
            ]
          },
          "metadata": {},
          "execution_count": 7
        }
      ]
    },
    {
      "cell_type": "code",
      "source": [
        "Break_even(30000, 12, 16)"
      ],
      "metadata": {
        "colab": {
          "base_uri": "https://localhost:8080/"
        },
        "id": "1MWyOWT81-de",
        "outputId": "4bf01e1a-32ff-4007-c3ce-5a0d31691f15"
      },
      "execution_count": 8,
      "outputs": [
        {
          "output_type": "execute_result",
          "data": {
            "text/plain": [
              "7500.0"
            ]
          },
          "metadata": {},
          "execution_count": 8
        }
      ]
    },
    {
      "cell_type": "code",
      "source": [
        "def profit(FC, v, R, Q):\n",
        "  TR = Q * R\n",
        "  TC = FC + (v * Q)\n",
        "  prof = TR - TC\n",
        "  return prof"
      ],
      "metadata": {
        "id": "oSGBv5nE2ECb"
      },
      "execution_count": 9,
      "outputs": []
    },
    {
      "cell_type": "code",
      "source": [
        "profit(40000, 10, 15, 17000)"
      ],
      "metadata": {
        "colab": {
          "base_uri": "https://localhost:8080/"
        },
        "id": "EQeqTgUg2mYU",
        "outputId": "5d4fab02-6c12-416d-ac9d-ed1b73d4a68c"
      },
      "execution_count": 12,
      "outputs": [
        {
          "output_type": "execute_result",
          "data": {
            "text/plain": [
              "45000"
            ]
          },
          "metadata": {},
          "execution_count": 12
        }
      ]
    },
    {
      "cell_type": "code",
      "source": [
        "profit(30000, 12, 16, 17000)"
      ],
      "metadata": {
        "colab": {
          "base_uri": "https://localhost:8080/"
        },
        "id": "THuYmlSG2utd",
        "outputId": "b8a6708e-0894-4f4a-b94a-2413043ea51b"
      },
      "execution_count": 13,
      "outputs": [
        {
          "output_type": "execute_result",
          "data": {
            "text/plain": [
              "38000"
            ]
          },
          "metadata": {},
          "execution_count": 13
        }
      ]
    },
    {
      "cell_type": "code",
      "source": [
        "Q = []\n",
        "profita = []\n",
        "profitb = []"
      ],
      "metadata": {
        "id": "pKzzdSmO3K4x"
      },
      "execution_count": 35,
      "outputs": []
    },
    {
      "cell_type": "code",
      "source": [
        "for i in range(0, 22000, 2000):\n",
        "  Q.append(i)\n",
        "  a = profit(40000, 10, 15, i)\n",
        "  profita.append(a)\n",
        "  b = profit(30000, 12, 16, i)\n",
        "  profitb.append(b)"
      ],
      "metadata": {
        "id": "uJyljpi43jrQ"
      },
      "execution_count": 36,
      "outputs": []
    },
    {
      "cell_type": "code",
      "source": [
        "import matplotlib.pyplot as plt"
      ],
      "metadata": {
        "id": "oFEAzMdK269V"
      },
      "execution_count": 14,
      "outputs": []
    },
    {
      "cell_type": "code",
      "source": [
        "plt.plot(Q, profita, marker='o')\n",
        "plt.plot(Q, profitb, marker='o')\n",
        "plt.xlabel('Q')\n",
        "plt.ylabel('Profit')\n",
        "plt.legend([\"Machine A\", \"Machine B\"], bbox_to_anchor=(0.75, -0.15), ncol=2)\n",
        "plt.grid()\n",
        "plt.show()"
      ],
      "metadata": {
        "colab": {
          "base_uri": "https://localhost:8080/",
          "height": 494
        },
        "id": "hwclH0Uy2-Vg",
        "outputId": "05007e78-433f-44da-b2f6-43c15b86123c"
      },
      "execution_count": 37,
      "outputs": [
        {
          "output_type": "display_data",
          "data": {
            "text/plain": [
              "<Figure size 640x480 with 1 Axes>"
            ],
            "image/png": "[encoded data removed]"
          },
          "metadata": {}
        }
      ]
    }
  ]
}